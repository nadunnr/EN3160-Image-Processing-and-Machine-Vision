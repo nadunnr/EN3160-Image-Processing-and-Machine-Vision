{
 "cells": [
  {
   "cell_type": "code",
   "execution_count": 4,
   "metadata": {},
   "outputs": [],
   "source": [
    "import numpy as np\n",
    "import cv2 as cv\n",
    "\n",
    "im1 = cv.imread(r\"D:\\Academics\\image_processing\\images\\new\\graf\\img1.ppm\", cv.IMREAD_COLOR)\n",
    "im2 = cv.imread(r\"D:\\Academics\\image_processing\\images\\new\\graf\\img2.ppm\", cv.IMREAD_COLOR)\n",
    "assert im1 is not None and im2 is not None\n",
    "\n",
    "\n",
    "#Reading the given homography\n",
    "with open (r'images/new/graf/H1to2p') as file:\n",
    "    H = np.array([[float(x) for x in line.split()] for line in file])\n",
    "\n",
    "im1to2 = cv.warpPerspective(im1, H, (1000,1000))\n",
    "im1to2[0:im1.shape[0], 0:im1.shape[1]] = im1\n",
    "\n",
    "cv.namedWindow('Image 1', cv.WINDOW_AUTOSIZE)\n",
    "cv.imshow('Image 1', im1)\n",
    "cv.waitKey(0)\n",
    "cv.namedWindow('Image 2', cv.WINDOW_AUTOSIZE)\n",
    "cv.imshow('Image 2', im2)\n",
    "cv.waitKey(0)\n",
    "cv.namedWindow('Image 1 to Image 2', cv.WINDOW_AUTOSIZE)\n",
    "cv.imshow('Image 1 to Image 2', im1to2)\n",
    "cv.waitKey(0)\n",
    "cv.destroyAllWindows()"
   ]
  },
  {
   "cell_type": "markdown",
   "metadata": {},
   "source": [
    "Xomputing the homograPHY WITH MOUSE CLIcked points and warping"
   ]
  },
  {
   "cell_type": "code",
   "execution_count": 10,
   "metadata": {},
   "outputs": [],
   "source": [
    "im1 = cv.imread(r\"D:\\Academics\\image_processing\\images\\new\\graf\\img1.ppm\", cv.IMREAD_COLOR)\n",
    "im2 = cv.imread(r\"D:\\Academics\\image_processing\\images\\new\\graf\\img2.ppm\", cv.IMREAD_COLOR)\n",
    "\n",
    "assert im1 is not None and im2 is not None\n",
    "\n",
    "N = 5 # No. of points to be clicked\n",
    "global n\n",
    "n=0\n",
    "\n",
    "p1 = np.empty((N,2))\n",
    "p2 = np.empty((N,2))\n",
    "\n",
    "def draw_circle(event, x, y, flags, param):\n",
    "    global n\n",
    "    p = param[0]\n",
    "    if event == cv.EVENT_LBUTTONDOWN:\n",
    "        cv.circle(param[1], (x,y), 5, (0,255,0), -1)\n",
    "        p[n]= (x,y)\n",
    "        n += 1\n",
    "\n",
    "im1copy = im1.copy()\n",
    "im2copy = im2.copy()\n",
    "\n",
    "cv.namedWindow('Image 1', cv.WINDOW_AUTOSIZE)\n",
    "param = [p1, im1copy]\n",
    "\n",
    "cv.setMouseCallback('Image 1', draw_circle, param)\n",
    "\n",
    "while(True):\n",
    "    cv.imshow('Image 1', im1copy)\n",
    "    if n==N:\n",
    "        break\n",
    "    if cv.waitKey(20) & 0xFF == 27:\n",
    "        break\n",
    "\n",
    "\n",
    "param = [p2, im2copy]\n",
    "\n",
    "cv.setMouseCallback('Image 1', draw_circle, param)\n",
    "\n",
    "while(True):\n",
    "    cv.imshow('Image 1', im2copy)\n",
    "    if n==N:\n",
    "        break\n",
    "    if cv.waitKey(20) & 0xFF == 27:\n",
    "        break   \n",
    "\n",
    "cv.destroyAllWindows()\n",
    "\n",
    "\n",
    "H = cv.findHomography(p1, p2)[0]\n"
   ]
  },
  {
   "cell_type": "code",
   "execution_count": null,
   "metadata": {},
   "outputs": [],
   "source": []
  }
 ],
 "metadata": {
  "kernelspec": {
   "display_name": "Python 3",
   "language": "python",
   "name": "python3"
  },
  "language_info": {
   "codemirror_mode": {
    "name": "ipython",
    "version": 3
   },
   "file_extension": ".py",
   "mimetype": "text/x-python",
   "name": "python",
   "nbconvert_exporter": "python",
   "pygments_lexer": "ipython3",
   "version": "3.11.3"
  }
 },
 "nbformat": 4,
 "nbformat_minor": 2
}
